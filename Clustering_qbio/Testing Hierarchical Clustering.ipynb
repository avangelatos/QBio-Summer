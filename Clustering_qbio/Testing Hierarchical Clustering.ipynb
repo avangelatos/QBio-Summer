{
 "cells": [
  {
   "cell_type": "markdown",
   "metadata": {},
   "source": [
    "# Human Melanoma Gene Expression"
   ]
  },
  {
   "cell_type": "code",
   "execution_count": 42,
   "metadata": {},
   "outputs": [],
   "source": [
    "import numpy as np\n",
    "import pandas as pd\n",
    "import matplotlib.pyplot as plt\n",
    "from scipy.spatial.distance import pdist, squareform\n",
    "from scipy.cluster.hierarchy import linkage, dendrogram"
   ]
  },
  {
   "cell_type": "markdown",
   "metadata": {},
   "source": [
    "## Import Data"
   ]
  },
  {
   "cell_type": "code",
   "execution_count": 43,
   "metadata": {},
   "outputs": [
    {
     "name": "stdout",
     "output_type": "stream",
     "text": [
      "Input Data and Shape\n",
      "(40592, 7)\n"
     ]
    },
    {
     "data": {
      "text/html": [
       "<div>\n",
       "<style scoped>\n",
       "    .dataframe tbody tr th:only-of-type {\n",
       "        vertical-align: middle;\n",
       "    }\n",
       "\n",
       "    .dataframe tbody tr th {\n",
       "        vertical-align: top;\n",
       "    }\n",
       "\n",
       "    .dataframe thead th {\n",
       "        text-align: right;\n",
       "    }\n",
       "</style>\n",
       "<table border=\"1\" class=\"dataframe\">\n",
       "  <thead>\n",
       "    <tr style=\"text-align: right;\">\n",
       "      <th></th>\n",
       "      <th>A2058</th>\n",
       "      <th>A375</th>\n",
       "      <th>C32</th>\n",
       "      <th>Malme3M</th>\n",
       "      <th>SKMEL28</th>\n",
       "      <th>SKMEL5</th>\n",
       "      <th>WM2664</th>\n",
       "    </tr>\n",
       "    <tr>\n",
       "      <th>Gene Name</th>\n",
       "      <th></th>\n",
       "      <th></th>\n",
       "      <th></th>\n",
       "      <th></th>\n",
       "      <th></th>\n",
       "      <th></th>\n",
       "      <th></th>\n",
       "    </tr>\n",
       "  </thead>\n",
       "  <tbody>\n",
       "    <tr>\n",
       "      <th>TSPAN6</th>\n",
       "      <td>26.0</td>\n",
       "      <td>27.0</td>\n",
       "      <td>8.0</td>\n",
       "      <td>27.0</td>\n",
       "      <td>30.0</td>\n",
       "      <td>48.0</td>\n",
       "      <td>36.0</td>\n",
       "    </tr>\n",
       "    <tr>\n",
       "      <th>DPM1</th>\n",
       "      <td>186.0</td>\n",
       "      <td>417.0</td>\n",
       "      <td>220.0</td>\n",
       "      <td>149.0</td>\n",
       "      <td>266.0</td>\n",
       "      <td>128.0</td>\n",
       "      <td>146.0</td>\n",
       "    </tr>\n",
       "    <tr>\n",
       "      <th>SCYL3</th>\n",
       "      <td>11.0</td>\n",
       "      <td>13.0</td>\n",
       "      <td>6.0</td>\n",
       "      <td>8.0</td>\n",
       "      <td>6.0</td>\n",
       "      <td>5.0</td>\n",
       "      <td>7.0</td>\n",
       "    </tr>\n",
       "    <tr>\n",
       "      <th>C1orf112</th>\n",
       "      <td>25.0</td>\n",
       "      <td>23.0</td>\n",
       "      <td>8.0</td>\n",
       "      <td>13.0</td>\n",
       "      <td>25.0</td>\n",
       "      <td>4.0</td>\n",
       "      <td>14.0</td>\n",
       "    </tr>\n",
       "    <tr>\n",
       "      <th>FGR</th>\n",
       "      <td>0.0</td>\n",
       "      <td>0.0</td>\n",
       "      <td>0.0</td>\n",
       "      <td>20.0</td>\n",
       "      <td>0.0</td>\n",
       "      <td>0.0</td>\n",
       "      <td>0.0</td>\n",
       "    </tr>\n",
       "  </tbody>\n",
       "</table>\n",
       "</div>"
      ],
      "text/plain": [
       "           A2058   A375    C32  Malme3M  SKMEL28  SKMEL5  WM2664\n",
       "Gene Name                                                       \n",
       "TSPAN6      26.0   27.0    8.0     27.0     30.0    48.0    36.0\n",
       "DPM1       186.0  417.0  220.0    149.0    266.0   128.0   146.0\n",
       "SCYL3       11.0   13.0    6.0      8.0      6.0     5.0     7.0\n",
       "C1orf112    25.0   23.0    8.0     13.0     25.0     4.0    14.0\n",
       "FGR          0.0    0.0    0.0     20.0      0.0     0.0     0.0"
      ]
     },
     "execution_count": 43,
     "metadata": {},
     "output_type": "execute_result"
    }
   ],
   "source": [
    "data = pd.read_csv('Human_Melanomas_tidy.csv', index_col=0, usecols=range(2,10))\n",
    "print(\"Input Data and Shape\")\n",
    "print(data.shape)\n",
    "data.head()"
   ]
  },
  {
   "cell_type": "code",
   "execution_count": 44,
   "metadata": {},
   "outputs": [
    {
     "name": "stdout",
     "output_type": "stream",
     "text": [
      "(40592, 7)\n"
     ]
    }
   ],
   "source": [
    "data_array = data.values\n",
    "print (data_array.shape)"
   ]
  },
  {
   "cell_type": "markdown",
   "metadata": {},
   "source": [
    "## Compute Distance"
   ]
  },
  {
   "cell_type": "code",
   "execution_count": null,
   "metadata": {},
   "outputs": [],
   "source": [
    "data_dist = pdist(data_array) # computing the distance\n",
    "data_link = linkage(data_array, 'ward') # computing the linkage"
   ]
  },
  {
   "cell_type": "markdown",
   "metadata": {},
   "source": [
    "## Dendrogram"
   ]
  },
  {
   "cell_type": "code",
   "execution_count": 40,
   "metadata": {},
   "outputs": [
    {
     "data": {
      "image/png": "[encoded data removed]",
      "text/plain": [
       "<Figure size 432x288 with 1 Axes>"
      ]
     },
     "metadata": {},
     "output_type": "display_data"
    }
   ],
   "source": [
    "dendrogram(data_link, labels= list(data), leaf_rotation=45.0)\n",
    "plt.xlabel('Melanoma Type')\n",
    "plt.ylabel('Distance')\n",
    "plt.suptitle('Samples clustering', fontweight='bold', fontsize=14);"
   ]
  },
  {
   "cell_type": "code",
   "execution_count": 41,
   "metadata": {},
   "outputs": [
    {
     "data": {
      "text/plain": [
       "<matplotlib.colorbar.Colorbar at 0x60db47080>"
      ]
     },
     "execution_count": 41,
     "metadata": {},
     "output_type": "execute_result"
    },
    {
     "data": {
      "image/png": "[encoded data removed]",
      "text/plain": [
       "<Figure size 576x576 with 4 Axes>"
      ]
     },
     "metadata": {},
     "output_type": "display_data"
    }
   ],
   "source": [
    "# Compute and plot first dendrogram.\n",
    "fig = plt.figure(figsize=(8,8))\n",
    "# x ywidth height\n",
    "ax1 = fig.add_axes([0.05,0.1,0.2,0.6])\n",
    "Y = linkage(data_dist, method='ward')\n",
    "Z1 = dendrogram(Y, orientation='left',labels=list(data)) # adding/removing the axes\n",
    "ax1.set_xticks([])\n",
    "\n",
    "# Compute and plot second dendrogram.\n",
    "ax2 = fig.add_axes([0.3,0.71,0.6,0.2])\n",
    "Z2 = dendrogram(Y)\n",
    "ax2.set_xticks([])\n",
    "ax2.set_yticks([])\n",
    "\n",
    "#Compute and plot the heatmap\n",
    "axmatrix = fig.add_axes([0.3,0.1,0.6,0.6])\n",
    "idx1 = Z1['leaves']\n",
    "idx2 = Z2['leaves']\n",
    "D = squareform(data_dist)\n",
    "D = D[idx1,:]\n",
    "D = D[:,idx2]\n",
    "im = axmatrix.matshow(D, aspect='auto', origin='lower', cmap=plt.cm.YlGnBu)\n",
    "axmatrix.set_xticks([])\n",
    "axmatrix.set_yticks([])\n",
    "\n",
    "# Plot colorbar.\n",
    "axcolor = fig.add_axes([0.91,0.1,0.02,0.6])\n",
    "plt.colorbar(im, cax=axcolor)"
   ]
  },
  {
   "cell_type": "code",
   "execution_count": null,
   "metadata": {},
   "outputs": [],
   "source": []
  }
 ],
 "metadata": {
  "kernelspec": {
   "display_name": "Python 3",
   "language": "python",
   "name": "python3"
  },
  "language_info": {
   "codemirror_mode": {
    "name": "ipython",
    "version": 3
   },
   "file_extension": ".py",
   "mimetype": "text/x-python",
   "name": "python",
   "nbconvert_exporter": "python",
   "pygments_lexer": "ipython3",
   "version": "3.6.5"
  }
 },
 "nbformat": 4,
 "nbformat_minor": 2
}
